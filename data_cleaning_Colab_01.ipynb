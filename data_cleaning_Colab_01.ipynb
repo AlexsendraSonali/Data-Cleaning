{
  "nbformat": 4,
  "nbformat_minor": 0,
  "metadata": {
    "colab": {
      "provenance": []
    },
    "kernelspec": {
      "name": "python3",
      "display_name": "Python 3"
    },
    "language_info": {
      "name": "python"
    }
  },
  "cells": [
    {
      "cell_type": "markdown",
      "source": [
        "# **What is Data Cleaning?**\n",
        "\n",
        "\n",
        " Data Cleaning is the process of identifying and correcting errors, inconsistencies, and inaccuracies in a dataset. It involves removing or correcting any problematic or irrelevant data to ensure the dataset is accurate, reliable, and suitable for analysis or other data-related tasks.\n",
        "\n",
        "\n",
        "\n",
        "---\n",
        "# **Why Data Cleaning is important?**\n",
        "\n",
        "\n",
        "\n",
        " Data Cleaning is vital because it improves the quality, reliability, and usefulness of data. It ensures that data analysis is based on accurate and consistent information, leading to more reliable insights and informed decision-making.\n",
        "\n",
        "\n",
        "\n",
        "---\n",
        "# Performing Data Cleaning on data \n",
        "\n",
        "Watch the video given below.\n",
        "[link text](https://www.youtube.com/watch?v=mwEPXevpqls&ab_channel=NetComLearning)\n",
        "\n",
        "\n",
        "\n",
        "---\n",
        "# let us look at the example given below.\n",
        "\n",
        "\n",
        "\n",
        "\n",
        "\n",
        "\n",
        "\n",
        "\n",
        "\n",
        "\n",
        "\n"
      ],
      "metadata": {
        "id": "3CFJ3FEG9T2L"
      }
    },
    {
      "cell_type": "code",
      "source": [
        "# Importing the necessary libraries\n",
        "import pandas as pd\n",
        "\n",
        "# Reading the dataset\n",
        "df = pd.read_csv('data.csv')\n",
        "\n",
        "# Displaying the first few rows of the dataset\n",
        "df.head()\n",
        "\n",
        "# Checking for missing values\n",
        "df.isnull().sum()\n",
        "\n",
        "# Handling missing values\n",
        "df['Age'].fillna(df['Age'].median(), inplace=True)\n",
        "\n",
        "# Checking for duplicates\n",
        "df.duplicated().sum()\n",
        "\n",
        "# Removing duplicates\n",
        "df.drop_duplicates(inplace=True)\n",
        "\n",
        "# Checking for inconsistent entries\n",
        "df['Gender'].value_counts()\n",
        "\n",
        "# Correcting inconsistent entries\n",
        "df['Gender'] = df['Gender'].str.lower().replace('f', 'female')\n",
        "df['Gender'] = df['Gender'].str.lower().replace('m', 'male')\n",
        "\n",
        "# Cleaning text data\n",
        "df['Description'] = df['Description'].str.strip()  # Removing leading and trailing whitespaces\n",
        "df['Description'] = df['Description'].str.capitalize()  # Capitalizing the first letter\n",
        "\n",
        "# Saving the cleaned dataset\n",
        "df.to_csv('cleaned_data.csv', index=False)\n"
      ],
      "metadata": {
        "id": "fShpUB5eEsbH"
      },
      "execution_count": null,
      "outputs": []
    },
    {
      "cell_type": "markdown",
      "source": [
        "As given in the above example , this demonstrates various data cleaning tasks such as handling missing values, removing duplicates, correcting inconsistent entries, and cleaning text data. It uses the pandas library, a popular data manipulation library in Python.\n",
        "\n"
      ],
      "metadata": {
        "id": "xGH2YU-mExQi"
      }
    },
    {
      "cell_type": "markdown",
      "source": [
        "Let's Try Performing Data Cleaning on our own dataset.\n",
        "\n",
        "# **1.Handling Missing Values**\n",
        "\n",
        "Look at the code snippet below.\n"
      ],
      "metadata": {
        "id": "KBvOkQ4uF31U"
      }
    },
    {
      "cell_type": "markdown",
      "source": [
        "**Importing our dataset**"
      ],
      "metadata": {
        "id": "qGYATGEKOC54"
      }
    },
    {
      "cell_type": "code",
      "source": [
        "import pandas as pd\n",
        "import numpy as np\n",
        "\n",
        "# read in all our data\n",
        "nfl_data = pd.read_csv(\"data.csv\")\n",
        "\n",
        "# set seed for reproducibility\n",
        "np.random.seed(0)\n",
        "\n",
        "nfl_data.head()"
      ],
      "metadata": {
        "id": "ZWrxr4ZOLsbS"
      },
      "execution_count": null,
      "outputs": []
    },
    {
      "cell_type": "markdown",
      "source": [
        "**Searching for missing values in our dataset**"
      ],
      "metadata": {
        "id": "EhmW_kdgMSao"
      }
    },
    {
      "cell_type": "code",
      "source": [
        "# get the number of missing data points per column\n",
        "missing_values_count = nfl_data.isnull().sum()\n",
        "\n",
        "# look at the # of missing points in the first ten columns\n",
        "missing_values_count[0:10]"
      ],
      "metadata": {
        "id": "6Hth7MGML5zG"
      },
      "execution_count": null,
      "outputs": []
    },
    {
      "cell_type": "markdown",
      "source": [
        "# Challenge Problem : Find whether there are any missing values for the houseprice dataset."
      ],
      "metadata": {
        "id": "kg9l-Z7vMhsc"
      }
    },
    {
      "cell_type": "code",
      "source": [],
      "metadata": {
        "id": "Dmue2f_BN-aq"
      },
      "execution_count": null,
      "outputs": []
    },
    {
      "cell_type": "markdown",
      "source": [
        "# **Why do we have missing Values in our dataset?**\n",
        "\n",
        "\n",
        "\n",
        "---\n",
        "There can be multiple reasons why certain values are missing from the data. Reasons for the missing of data from the dataset affect the approach of handling missing data. So it’s necessary to understand why the data could be missing.\n",
        "\n",
        "Some of the reasons are listed below:\n",
        "\n",
        "Past data might get corrupted due to improper maintenance.\n",
        "\n",
        "1.   List item\n",
        "2.   List item\n",
        "\n",
        "\n",
        "Observations are not recorded for certain fields due to some reasons. There might be a failure in recording the values due to human error.\n",
        "The user has not provided the values intentionally\n",
        "Item nonresponse: This means the participant refused to respond.\n",
        "\n",
        "\n",
        "---\n",
        "\n",
        "\n"
      ],
      "metadata": {
        "id": "c7_L9I7iOIWk"
      }
    },
    {
      "cell_type": "markdown",
      "source": [
        "**Dropping missing values from our dataset**"
      ],
      "metadata": {
        "id": "o8H4cOisQr-6"
      }
    },
    {
      "cell_type": "code",
      "source": [
        "nfl_data.dropna()"
      ],
      "metadata": {
        "id": "rS-XcDxRRApZ"
      },
      "execution_count": null,
      "outputs": []
    },
    {
      "cell_type": "markdown",
      "source": [],
      "metadata": {
        "id": "cCus3cPORJwe"
      }
    },
    {
      "cell_type": "code",
      "source": [
        "# remove all columns with at least one missing value\n",
        "columns_with_na_dropped = nfl_data.dropna(axis=1)\n",
        "columns_with_na_dropped.head()"
      ],
      "metadata": {
        "id": "dlzAdfWxREPr"
      },
      "execution_count": null,
      "outputs": []
    },
    {
      "cell_type": "markdown",
      "source": [
        "# Challenge Problem : If there were any missing values in Houseprice dataset , Drop the missing values and print how many values did lost."
      ],
      "metadata": {
        "id": "SjE0fRpSRZpM"
      }
    },
    {
      "cell_type": "code",
      "source": [],
      "metadata": {
        "id": "bBUrk6BnULTa"
      },
      "execution_count": null,
      "outputs": []
    },
    {
      "cell_type": "markdown",
      "source": [
        "**Filling in missing values Automatically**\n",
        "\n",
        "---\n",
        "\n"
      ],
      "metadata": {
        "id": "pvEt0ux3S6Yl"
      }
    },
    {
      "cell_type": "markdown",
      "source": [
        "Instead of dropping missing values , we can also fill empty cells of our dataset.Look at the code snippets below."
      ],
      "metadata": {
        "id": "OEcYzvDzR9cz"
      }
    },
    {
      "cell_type": "markdown",
      "source": [],
      "metadata": {
        "id": "5AydptapTaE7"
      }
    },
    {
      "cell_type": "code",
      "source": [
        "subset_nfl_data = nfl_data.loc[:, 'EPA':'Season'].head()\n",
        "subset_nfl_data"
      ],
      "metadata": {
        "id": "Yr8UxDhMTFjR"
      },
      "execution_count": null,
      "outputs": []
    },
    {
      "cell_type": "markdown",
      "source": [
        "**Rplacing all null values with zero**"
      ],
      "metadata": {
        "id": "KpHWtAkJTl12"
      }
    },
    {
      "cell_type": "code",
      "source": [
        "\n",
        "subset_nfl_data.fillna(0)"
      ],
      "metadata": {
        "id": "Ru-iDrcaTP4k"
      },
      "execution_count": null,
      "outputs": []
    },
    {
      "cell_type": "markdown",
      "source": [
        "**Replacing all null values with a value that comes after the empty value in the same column and replacing all the other remaining values with zero's.**"
      ],
      "metadata": {
        "id": "DwYBd4LmTsNf"
      }
    },
    {
      "cell_type": "code",
      "source": [
        "\n",
        "subset_nfl_data.fillna(method='bfill', axis=0).fillna(0)"
      ],
      "metadata": {
        "id": "BL704gq1TV-Y"
      },
      "execution_count": null,
      "outputs": []
    }
  ]
}