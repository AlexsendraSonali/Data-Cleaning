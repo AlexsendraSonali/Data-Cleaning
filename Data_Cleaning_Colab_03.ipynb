{
  "nbformat": 4,
  "nbformat_minor": 0,
  "metadata": {
    "colab": {
      "provenance": []
    },
    "kernelspec": {
      "name": "python3",
      "display_name": "Python 3"
    },
    "language_info": {
      "name": "python"
    }
  },
  "cells": [
    {
      "cell_type": "markdown",
      "source": [
        "# **4.Parsing Dates**\n",
        "\n",
        "**What is date parsing ?**\n",
        "\n",
        "Date parsing refers to the process of converting textual representations of dates into a standardized date format that can be easily manipulated and analyzed by a computer. It involves extracting the relevant components (year, month, day, etc.) from the input string and converting them into a structured date object.\n",
        "\n",
        "---\n",
        "look at the following code snippet."
      ],
      "metadata": {
        "id": "dnGCElm5fwZv"
      }
    },
    {
      "cell_type": "code",
      "execution_count": null,
      "metadata": {
        "id": "3BEh-F7OdVgc"
      },
      "outputs": [],
      "source": [
        "from datetime import datetime\n",
        "\n",
        "# Example input string representing a date\n",
        "date_string = \"June 1, 2023\"\n",
        "\n",
        "# Define the date format of the input string\n",
        "date_format = \"%B %d, %Y\"\n",
        "\n",
        "# Parse the date string into a datetime object\n",
        "parsed_date = datetime.strptime(date_string, date_format)\n",
        "\n",
        "# Print the parsed date\n",
        "print(parsed_date)\n"
      ]
    },
    {
      "cell_type": "markdown",
      "source": [
        "According to the above code ,  the input string \"June 1, 2023\" represents a date in the format of the month, day, and year. We define the corresponding date format using the %B for the full month name, %d for the day, and %Y for the four-digit year.\n",
        "\n",
        "The datetime.strptime function is used to parse the date string according to the specified date format. It returns a datetime object representing the parsed date.\n",
        "\n",
        "Finally, we print the parsed date, which in this case is 2023-06-01 00:00:00."
      ],
      "metadata": {
        "id": "doaLIc4WgjWh"
      }
    },
    {
      "cell_type": "markdown",
      "source": [
        "# **Challenge Problem : Convert the string \" January 5 , 2021 \" into DateTime Format (dd/mm/YYY)**"
      ],
      "metadata": {
        "id": "W9yT2ZWMhE9c"
      }
    },
    {
      "cell_type": "code",
      "source": [
        "import pandas as pd\n",
        "import numpy as np\n",
        "import seaborn as sns\n",
        "import datetime\n",
        "\n",
        "landslides = pd.read_csv(\"../input/landslide-events/catalog.csv\")\n"
      ],
      "metadata": {
        "id": "B4o1LyeJixsY"
      },
      "execution_count": null,
      "outputs": []
    },
    {
      "cell_type": "markdown",
      "source": [
        "**Checking the datatype of the date column**"
      ],
      "metadata": {
        "id": "UxmG6REVkUt5"
      }
    },
    {
      "cell_type": "code",
      "source": [
        "landslides.head()\n",
        "print(landslides['date'].head())"
      ],
      "metadata": {
        "id": "GjgvuuSEkbBY"
      },
      "execution_count": null,
      "outputs": []
    },
    {
      "cell_type": "markdown",
      "source": [
        "**Converting our Date Columns to DateTime.**"
      ],
      "metadata": {
        "id": "ajTXnUO-iwKc"
      }
    },
    {
      "cell_type": "code",
      "source": [
        "# create a new column, date_parsed, with the parsed dates\n",
        "landslides['date_parsed'] = pd.to_datetime(landslides['date'], format=\"%m/%d/%y\")"
      ],
      "metadata": {
        "id": "R0ca_8NRjide"
      },
      "execution_count": null,
      "outputs": []
    },
    {
      "cell_type": "code",
      "source": [
        "# print the first few rows\n",
        "landslides['date_parsed'].head()"
      ],
      "metadata": {
        "id": "eJV4v66zmj0W"
      },
      "execution_count": null,
      "outputs": []
    },
    {
      "cell_type": "markdown",
      "source": [
        "If the dates are parsed correctly , the datatype will be shown as datetime64."
      ],
      "metadata": {
        "id": "b-KeMSpioTxh"
      }
    },
    {
      "cell_type": "markdown",
      "source": [
        "# Challenge Problem : Use the Houseprice Dataset , search for the date values and convert them into DateTime Format. After converting the column , Extract the month to detect the highest recorded house price ."
      ],
      "metadata": {
        "id": "ab2GRRMIosWR"
      }
    },
    {
      "cell_type": "code",
      "source": [],
      "metadata": {
        "id": "DsHuVAVVpKdJ"
      },
      "execution_count": null,
      "outputs": []
    }
  ]
}