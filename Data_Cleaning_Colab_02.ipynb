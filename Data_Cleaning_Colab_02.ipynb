{
  "nbformat": 4,
  "nbformat_minor": 0,
  "metadata": {
    "colab": {
      "provenance": []
    },
    "kernelspec": {
      "name": "python3",
      "display_name": "Python 3"
    },
    "language_info": {
      "name": "python"
    }
  },
  "cells": [
    {
      "cell_type": "markdown",
      "source": [
        "# **What is Scaling and Normalization ?**\n",
        "\n",
        "Scaling : Scaling is the process of transforming numerical data to a specific range or scale. It involves re-scaling the values of a variable to a common range, typically between 0 and 1 or -1 and 1. The purpose of scaling is to bring all variables to a similar scale, eliminating the influence of their original measurement units.\n",
        "\n",
        "Normalization : Normalization is another technique used to transform data to a standard range. It adjusts the values of a variable to have a standard deviation of 1 or to fit within a specific range, such as -1 to 1 or 0 to 1. The purpose of normalization is to bring variables with different scales and variances to a similar level of comparison."
      ],
      "metadata": {
        "id": "ijUAmRO-Wo8a"
      }
    },
    {
      "cell_type": "markdown",
      "source": [
        "\n",
        "\n",
        "---\n",
        "Let's Import necessary libraries along with the dataset\n"
      ],
      "metadata": {
        "id": "RqIRfK0CZ-Fz"
      }
    },
    {
      "cell_type": "code",
      "source": [
        "\n",
        "import pandas as pd\n",
        "import numpy as np\n",
        "\n",
        "\n",
        "from scipy import stats\n",
        "\n",
        "\n",
        "from mlxtend.preprocessing import minmax_scaling\n",
        "\n",
        "\n",
        "import seaborn as sns\n",
        "import matplotlib.pyplot as plt"
      ],
      "metadata": {
        "id": "NyVa42b4aHBK"
      },
      "execution_count": null,
      "outputs": []
    },
    {
      "cell_type": "markdown",
      "source": [
        "# **2.Scaling our Data**\n",
        "\n",
        "---\n",
        "Let's take a look into the following code snippet.\n"
      ],
      "metadata": {
        "id": "fzU6gFmgY2gF"
      }
    },
    {
      "cell_type": "code",
      "source": [
        "# Generate random exponential data\n",
        "original_data = np.random.exponential(size=1000)\n",
        "\n",
        "# Perform Min-Max scaling manually\n",
        "scaled_data = (original_data - np.min(original_data)) / (np.max(original_data) - np.min(original_data))\n",
        "\n",
        "# Plot the original and scaled data\n",
        "fig, ax = plt.subplots(1, 2, figsize=(15, 3))\n",
        "ax[0].hist(original_data, bins=30, density=True)\n",
        "ax[0].set_title(\"Original Data\")\n",
        "ax[1].hist(scaled_data, bins=30, density=True)\n",
        "ax[1].set_title(\"Scaled Data\")\n",
        "plt.show()"
      ],
      "metadata": {
        "id": "13QxmInPZRlP"
      },
      "execution_count": null,
      "outputs": []
    },
    {
      "cell_type": "markdown",
      "source": [
        "The above code generates random exponential data using np.random.exponential and then reshapes it to a 2D array with a single column. The data is then scaled using MinMaxScaler from scikit-learn. Finally, the original and scaled data are plotted using seaborn.histplot."
      ],
      "metadata": {
        "id": "w4tBZZBhbjuQ"
      }
    },
    {
      "cell_type": "markdown",
      "source": [
        "# **3.Normalizing our Data**\n",
        "\n",
        "---\n",
        "The following code snippet shows How to normalize our data.\n"
      ],
      "metadata": {
        "id": "NWikkKVRb2Xd"
      }
    },
    {
      "cell_type": "code",
      "source": [
        "# normalize the exponential data with boxcox\n",
        "normalized_data = stats.boxcox(original_data)\n",
        "\n",
        "# plot both together to compare\n",
        "fig, ax=plt.subplots(1, 2, figsize=(15, 3))\n",
        "sns.histplot(original_data, ax=ax[0], kde=True, legend=False)\n",
        "ax[0].set_title(\"Original Data\")\n",
        "sns.histplot(normalized_data[0], ax=ax[1], kde=True, legend=False)\n",
        "ax[1].set_title(\"Normalized data\")\n",
        "plt.show()"
      ],
      "metadata": {
        "id": "wyrT0RCmcJJm"
      },
      "execution_count": null,
      "outputs": []
    },
    {
      "cell_type": "markdown",
      "source": [
        "In this code, we import the stats module from scipy to access the boxcox function. The boxcox function performs the Box-Cox transformation on the original_data, returning a tuple where the first element represents the normalized data.\n",
        "\n",
        "The original and normalized data are then plotted side by side using seaborn.histplot."
      ],
      "metadata": {
        "id": "PVE28mDrcRLr"
      }
    },
    {
      "cell_type": "markdown",
      "source": [
        "# **Challenge Problem : Perform Scaling and Normalization for the Houseprice Dataset.**"
      ],
      "metadata": {
        "id": "p06bbg2zcpZj"
      }
    },
    {
      "cell_type": "code",
      "source": [],
      "metadata": {
        "id": "lOdwConCczQY"
      },
      "execution_count": null,
      "outputs": []
    }
  ]
}